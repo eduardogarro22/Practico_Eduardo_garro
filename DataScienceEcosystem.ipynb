#Ejercicio 12 - Comparte tu cuaderno a través de GitHub

Print('Trabajo practico')
